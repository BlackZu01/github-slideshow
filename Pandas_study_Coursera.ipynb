{
  "nbformat": 4,
  "nbformat_minor": 0,
  "metadata": {
    "colab": {
      "name": "Pandas.ipynb",
      "provenance": [],
      "authorship_tag": "ABX9TyOCaPRF/aChrP+s8sSRDqpR",
      "include_colab_link": true
    },
    "kernelspec": {
      "name": "python3",
      "display_name": "Python 3"
    }
  },
  "cells": [
    {
      "cell_type": "markdown",
      "metadata": {
        "id": "view-in-github",
        "colab_type": "text"
      },
      "source": [
        "<a href=\"https://colab.research.google.com/github/BlackZu01/github-slideshow/blob/master/Pandas_study.ipynb\" target=\"_parent\"><img src=\"https://colab.research.google.com/assets/colab-badge.svg\" alt=\"Open In Colab\"/></a>"
      ]
    },
    {
      "cell_type": "code",
      "metadata": {
        "id": "B8NpoRpPag1K",
        "colab_type": "code",
        "colab": {}
      },
      "source": [
        "import pandas as pd"
      ],
      "execution_count": 1,
      "outputs": []
    },
    {
      "cell_type": "code",
      "metadata": {
        "id": "gqXlV1Lkarts",
        "colab_type": "code",
        "colab": {}
      },
      "source": [
        "lista = {\"1)Pedro\":\"Rojo\", \"2)Juan\":\"Azul\"}\n",
        "prueba = pd.Series(lista)\n",
        "prueba"
      ],
      "execution_count": null,
      "outputs": []
    },
    {
      "cell_type": "code",
      "metadata": {
        "id": "XQnqmWT1b2tH",
        "colab_type": "code",
        "colab": {
          "base_uri": "https://localhost:8080/",
          "height": 142
        },
        "outputId": "e64dc5eb-3eb1-4ee8-9fc7-c7d2ea4dfb0c"
      },
      "source": [
        "persona1 = pd.Series({\"Nombre\":\"Alejandra Del Chiaro\",\n",
        "                      \"Edad\":18,\n",
        "                      \"Carrera\":\"Matemáticas\",\n",
        "                      \"Universidad\":\"Universidad del norte\"})\n",
        "persona2 = pd.Series({\"Nombre\":\"Steven Muñoz\",\n",
        "                      \"Edad\":18,\n",
        "                      \"Carrera\":\"Matemáticas\",\n",
        "                      \"Universidad\":\"Universidad del Norte\"})\n",
        "persona3 = pd.Series({\"Nombre\":\"Martin Bornacelly\",\n",
        "                      \"Edad\":18,\n",
        "                      \"Carrera\":\"Ingenieria Electrica\",\n",
        "                      \"Universidad\":\"Universidad del Norte\"})\n",
        "tablita = pd.DataFrame([persona1, persona2, persona3], index = [\"Amiga 1\", \"Amigo 2\", \"Amigo 3\"])\n",
        "tablita"
      ],
      "execution_count": null,
      "outputs": [
        {
          "output_type": "execute_result",
          "data": {
            "text/html": [
              "<div>\n",
              "<style scoped>\n",
              "    .dataframe tbody tr th:only-of-type {\n",
              "        vertical-align: middle;\n",
              "    }\n",
              "\n",
              "    .dataframe tbody tr th {\n",
              "        vertical-align: top;\n",
              "    }\n",
              "\n",
              "    .dataframe thead th {\n",
              "        text-align: right;\n",
              "    }\n",
              "</style>\n",
              "<table border=\"1\" class=\"dataframe\">\n",
              "  <thead>\n",
              "    <tr style=\"text-align: right;\">\n",
              "      <th></th>\n",
              "      <th>Nombre</th>\n",
              "      <th>Edad</th>\n",
              "      <th>Carrera</th>\n",
              "      <th>Universidad</th>\n",
              "    </tr>\n",
              "  </thead>\n",
              "  <tbody>\n",
              "    <tr>\n",
              "      <th>Amiga 1</th>\n",
              "      <td>Alejandra Del Chiaro</td>\n",
              "      <td>18</td>\n",
              "      <td>Matemáticas</td>\n",
              "      <td>Universidad del norte</td>\n",
              "    </tr>\n",
              "    <tr>\n",
              "      <th>Amigo 2</th>\n",
              "      <td>Steven Muñoz</td>\n",
              "      <td>18</td>\n",
              "      <td>Matemáticas</td>\n",
              "      <td>Universidad del Norte</td>\n",
              "    </tr>\n",
              "    <tr>\n",
              "      <th>Amigo 3</th>\n",
              "      <td>Martin Bornacelly</td>\n",
              "      <td>18</td>\n",
              "      <td>Ingenieria Electrica</td>\n",
              "      <td>Universidad del Norte</td>\n",
              "    </tr>\n",
              "  </tbody>\n",
              "</table>\n",
              "</div>"
            ],
            "text/plain": [
              "                       Nombre  ...            Universidad\n",
              "Amiga 1  Alejandra Del Chiaro  ...  Universidad del norte\n",
              "Amigo 2          Steven Muñoz  ...  Universidad del Norte\n",
              "Amigo 3     Martin Bornacelly  ...  Universidad del Norte\n",
              "\n",
              "[3 rows x 4 columns]"
            ]
          },
          "metadata": {
            "tags": []
          },
          "execution_count": 37
        }
      ]
    },
    {
      "cell_type": "code",
      "metadata": {
        "id": "M4c7AUMvLi3b",
        "colab_type": "code",
        "colab": {}
      },
      "source": [
        "#Para buscar algo en la estructura de datos\n",
        "tablita[\"Nombre\"][tablita[\"Carrera\"]== \"Matemáticas\"]"
      ],
      "execution_count": null,
      "outputs": []
    },
    {
      "cell_type": "code",
      "metadata": {
        "id": "iM6lf-9KfRTZ",
        "colab_type": "code",
        "colab": {}
      },
      "source": [
        "#Para buscar cierta fila usamos este metodo\n",
        "tablita.loc[\"Amiga 1\"]"
      ],
      "execution_count": null,
      "outputs": []
    },
    {
      "cell_type": "code",
      "metadata": {
        "id": "sKH45ZVOhXiI",
        "colab_type": "code",
        "colab": {}
      },
      "source": [
        "#Para saber ciertos datos de alguna columna en general usamos:\n",
        "tablita[\"Nombre\"]"
      ],
      "execution_count": null,
      "outputs": []
    },
    {
      "cell_type": "code",
      "metadata": {
        "id": "W9HoYTROjW99",
        "colab_type": "code",
        "colab": {}
      },
      "source": [
        "#Conocer cierto dato de una fila en especifico\n",
        "tablita.loc[\"Amiga 1\", \"Edad\"]"
      ],
      "execution_count": null,
      "outputs": []
    },
    {
      "cell_type": "code",
      "metadata": {
        "id": "evRKBXmKj2Zm",
        "colab_type": "code",
        "colab": {}
      },
      "source": [
        "#Para transponer una matriz\n",
        "tablita.T"
      ],
      "execution_count": null,
      "outputs": []
    },
    {
      "cell_type": "code",
      "metadata": {
        "id": "kFyv_WY5ka3_",
        "colab_type": "code",
        "colab": {}
      },
      "source": [
        "tablita.loc[\"Amiga 1\"][\"Nombre\"]"
      ],
      "execution_count": null,
      "outputs": []
    },
    {
      "cell_type": "code",
      "metadata": {
        "id": "xPq-1mIClOqN",
        "colab_type": "code",
        "colab": {}
      },
      "source": [
        "#Si queremos solo cierta parte de la tabla\n",
        "tablita.loc[:,[\"Nombre\", \"Carrera\"]]"
      ],
      "execution_count": null,
      "outputs": []
    },
    {
      "cell_type": "code",
      "metadata": {
        "id": "HZutG13ZlsBt",
        "colab_type": "code",
        "colab": {}
      },
      "source": [
        "#Si queremos dropear(eliminar) ciertas filas de la estructura hacemos:\n",
        "tablita.drop(\"Amigo 3\")"
      ],
      "execution_count": null,
      "outputs": []
    },
    {
      "cell_type": "code",
      "metadata": {
        "id": "sk7vgmsnmUc4",
        "colab_type": "code",
        "colab": {}
      },
      "source": [
        "#Si queremos guardar un dato en alguna variable para usarlo despues podemos usar el metodo .copy()\n",
        "copia_tablita = tablita.copy()\n",
        "copia_tablita = tablita.drop(\"Amigo 3\")\n",
        "copia_tablita"
      ],
      "execution_count": null,
      "outputs": []
    },
    {
      "cell_type": "code",
      "metadata": {
        "id": "gtbFdhz5mrNG",
        "colab_type": "code",
        "colab": {}
      },
      "source": [
        "#Borrando mas de una estructura\n",
        "copia_2 = copia_tablita.copy()\n",
        "copia_2 = copia_tablita.drop(\"Amigo 2\")\n",
        "copia_2"
      ],
      "execution_count": null,
      "outputs": []
    },
    {
      "cell_type": "code",
      "metadata": {
        "id": "1d8PIyt4pS7_",
        "colab_type": "code",
        "colab": {}
      },
      "source": [
        "#Para eliminar permanentemente ciertas columnas usamos el metodo del copia_2[\"Nombre\"]"
      ],
      "execution_count": null,
      "outputs": []
    },
    {
      "cell_type": "code",
      "metadata": {
        "id": "Y2cklh4mpazx",
        "colab_type": "code",
        "colab": {}
      },
      "source": [
        "#Creare una lista de items de unas tiendas en diferentes lugares\n",
        "item_1 = pd.Series({\"Bebidas\":\"Coca-cola\",\n",
        "                       \"Precio\":2500,\n",
        "                       })\n",
        "item_2 = pd.Series({\"Bebidas\":\"Pepsi\",\n",
        "                       \"Precio\":2350,\n",
        "                       })\n",
        "tabla_de_productos = pd.DataFrame([item_1, item_2], index = [\"Sede Buenavista\", \"Sede Portal del Prado\"])\n",
        "\n",
        "#Para hacer descuentos\n",
        "tabla_de_productos[\"Precio\"] *= 0.20"
      ],
      "execution_count": null,
      "outputs": []
    },
    {
      "cell_type": "code",
      "metadata": {
        "id": "AGFBJUvRJuMF",
        "colab_type": "code",
        "colab": {}
      },
      "source": [
        "#Trabajar con archivos distintos almacenados en el pc\n",
        "df = pd.read_csv(\"olympics.csv\")\n",
        "df.head()"
      ],
      "execution_count": null,
      "outputs": []
    },
    {
      "cell_type": "code",
      "metadata": {
        "id": "4cfOgih3SZki",
        "colab_type": "code",
        "colab": {
          "base_uri": "https://localhost:8080/",
          "height": 238
        },
        "outputId": "13d15f54-3e7a-4c67-f2e1-ec7a085faf1a"
      },
      "source": [
        "#Podemos arreglar esos numeros en la primera columna usando index=0 y skiprows=1\n",
        "df = pd.read_csv(\"olympics.csv\", index_col=0, skiprows=1)\n",
        "df.head()"
      ],
      "execution_count": 29,
      "outputs": [
        {
          "output_type": "execute_result",
          "data": {
            "text/html": [
              "<div>\n",
              "<style scoped>\n",
              "    .dataframe tbody tr th:only-of-type {\n",
              "        vertical-align: middle;\n",
              "    }\n",
              "\n",
              "    .dataframe tbody tr th {\n",
              "        vertical-align: top;\n",
              "    }\n",
              "\n",
              "    .dataframe thead th {\n",
              "        text-align: right;\n",
              "    }\n",
              "</style>\n",
              "<table border=\"1\" class=\"dataframe\">\n",
              "  <thead>\n",
              "    <tr style=\"text-align: right;\">\n",
              "      <th></th>\n",
              "      <th>№ Summer</th>\n",
              "      <th>01 !</th>\n",
              "      <th>02 !</th>\n",
              "      <th>03 !</th>\n",
              "      <th>Total</th>\n",
              "      <th>№ Winter</th>\n",
              "      <th>01 !.1</th>\n",
              "      <th>02 !.1</th>\n",
              "      <th>03 !.1</th>\n",
              "      <th>Total.1</th>\n",
              "      <th>№ Games</th>\n",
              "      <th>01 !.2</th>\n",
              "      <th>02 !.2</th>\n",
              "      <th>03 !.2</th>\n",
              "      <th>Combined total</th>\n",
              "    </tr>\n",
              "  </thead>\n",
              "  <tbody>\n",
              "    <tr>\n",
              "      <th>Afghanistan (AFG)</th>\n",
              "      <td>13</td>\n",
              "      <td>0</td>\n",
              "      <td>0</td>\n",
              "      <td>2</td>\n",
              "      <td>2</td>\n",
              "      <td>0</td>\n",
              "      <td>0</td>\n",
              "      <td>0</td>\n",
              "      <td>0</td>\n",
              "      <td>0</td>\n",
              "      <td>13</td>\n",
              "      <td>0</td>\n",
              "      <td>0</td>\n",
              "      <td>2</td>\n",
              "      <td>2</td>\n",
              "    </tr>\n",
              "    <tr>\n",
              "      <th>Algeria (ALG)</th>\n",
              "      <td>12</td>\n",
              "      <td>5</td>\n",
              "      <td>2</td>\n",
              "      <td>8</td>\n",
              "      <td>15</td>\n",
              "      <td>3</td>\n",
              "      <td>0</td>\n",
              "      <td>0</td>\n",
              "      <td>0</td>\n",
              "      <td>0</td>\n",
              "      <td>15</td>\n",
              "      <td>5</td>\n",
              "      <td>2</td>\n",
              "      <td>8</td>\n",
              "      <td>15</td>\n",
              "    </tr>\n",
              "    <tr>\n",
              "      <th>Argentina (ARG)</th>\n",
              "      <td>23</td>\n",
              "      <td>18</td>\n",
              "      <td>24</td>\n",
              "      <td>28</td>\n",
              "      <td>70</td>\n",
              "      <td>18</td>\n",
              "      <td>0</td>\n",
              "      <td>0</td>\n",
              "      <td>0</td>\n",
              "      <td>0</td>\n",
              "      <td>41</td>\n",
              "      <td>18</td>\n",
              "      <td>24</td>\n",
              "      <td>28</td>\n",
              "      <td>70</td>\n",
              "    </tr>\n",
              "    <tr>\n",
              "      <th>Armenia (ARM)</th>\n",
              "      <td>5</td>\n",
              "      <td>1</td>\n",
              "      <td>2</td>\n",
              "      <td>9</td>\n",
              "      <td>12</td>\n",
              "      <td>6</td>\n",
              "      <td>0</td>\n",
              "      <td>0</td>\n",
              "      <td>0</td>\n",
              "      <td>0</td>\n",
              "      <td>11</td>\n",
              "      <td>1</td>\n",
              "      <td>2</td>\n",
              "      <td>9</td>\n",
              "      <td>12</td>\n",
              "    </tr>\n",
              "    <tr>\n",
              "      <th>Australasia (ANZ) [ANZ]</th>\n",
              "      <td>2</td>\n",
              "      <td>3</td>\n",
              "      <td>4</td>\n",
              "      <td>5</td>\n",
              "      <td>12</td>\n",
              "      <td>0</td>\n",
              "      <td>0</td>\n",
              "      <td>0</td>\n",
              "      <td>0</td>\n",
              "      <td>0</td>\n",
              "      <td>2</td>\n",
              "      <td>3</td>\n",
              "      <td>4</td>\n",
              "      <td>5</td>\n",
              "      <td>12</td>\n",
              "    </tr>\n",
              "  </tbody>\n",
              "</table>\n",
              "</div>"
            ],
            "text/plain": [
              "                         № Summer  01 !  02 !  ...  02 !.2  03 !.2  Combined total\n",
              "Afghanistan (AFG)              13     0     0  ...       0       2               2\n",
              "Algeria (ALG)                  12     5     2  ...       2       8              15\n",
              "Argentina (ARG)                23    18    24  ...      24      28              70\n",
              "Armenia (ARM)                   5     1     2  ...       2       9              12\n",
              "Australasia (ANZ) [ANZ]         2     3     4  ...       4       5              12\n",
              "\n",
              "[5 rows x 15 columns]"
            ]
          },
          "metadata": {
            "tags": []
          },
          "execution_count": 29
        }
      ]
    },
    {
      "cell_type": "code",
      "metadata": {
        "id": "2EEzkhT0U1pI",
        "colab_type": "code",
        "colab": {}
      },
      "source": [
        "df.columns"
      ],
      "execution_count": null,
      "outputs": []
    },
    {
      "cell_type": "code",
      "metadata": {
        "id": "aQfvNB7LU6lV",
        "colab_type": "code",
        "colab": {}
      },
      "source": [
        "for col in df.columns:\n",
        "  if col[:2] == \"01\":\n",
        "    df.rename(columns = {col:\"Gold\"+col[4:]}, inplace= True)\n",
        "  if col[:2] == \"02\":\n",
        "    df.rename(columns = {col:\"Silver\"+col[4:]}, inplace = True)\n",
        "  if col[:2] == \"03\":\n",
        "    df.rename(columns = {col:\"Bronze\"+col[4:]}, inplace = True)\n",
        "  if col[:1] == \" \":\n",
        "    df.rename(columns = {col:\"#\"+col[4:]}, inplace = True)\n",
        "df.head()\n"
      ],
      "execution_count": null,
      "outputs": []
    },
    {
      "cell_type": "code",
      "metadata": {
        "id": "RrxPcbNRCU4L",
        "colab_type": "code",
        "colab": {}
      },
      "source": [
        "#Para buscar ciertos datos como cuantos paises han ganado medalla de oro usando mascara booleana\n",
        "df[\"Gold\"]>0"
      ],
      "execution_count": null,
      "outputs": []
    },
    {
      "cell_type": "code",
      "metadata": {
        "id": "FUPlynm2HoYA",
        "colab_type": "code",
        "colab": {}
      },
      "source": [
        "only_gold = df.where(df[\"Gold\"]>0)\n",
        "only_gold.head()\n",
        "#AQUI NOTAMOS QUE LOS PAIS\n",
        "#ES QUE APARECEN CON NaN es porque no han ganado al menos 1 medalla de oro mientras\n",
        "#que el resto si"
      ],
      "execution_count": null,
      "outputs": []
    },
    {
      "cell_type": "code",
      "metadata": {
        "id": "1sYRqQ3XH-kS",
        "colab_type": "code",
        "colab": {}
      },
      "source": [
        "#Para saber cuantos paises en concreto han ganado mdelalla de oro\n",
        "df[\"Gold\"].count()"
      ],
      "execution_count": null,
      "outputs": []
    },
    {
      "cell_type": "code",
      "metadata": {
        "id": "mQKmrkuOIYki",
        "colab_type": "code",
        "colab": {}
      },
      "source": [
        "#Para eliminar estos paises que estan en NaN podemos usar el metodo dropna()\n",
        "only_gold = only_gold.dropna()\n",
        "only_gold.head()"
      ],
      "execution_count": null,
      "outputs": []
    },
    {
      "cell_type": "code",
      "metadata": {
        "id": "6TIfquloIlUt",
        "colab_type": "code",
        "colab": {}
      },
      "source": [
        "len(df[(df[\"Gold\"]>0) | df[\"Gold.1\"]>0])"
      ],
      "execution_count": null,
      "outputs": []
    },
    {
      "cell_type": "code",
      "metadata": {
        "id": "Unk6Z-BvKE_e",
        "colab_type": "code",
        "colab": {}
      },
      "source": [
        "len(df[(df[\"Gold.1\"]>0) | df[\"Gold\"] == 0]) #Paises que han ganado medalla de oro en  summer pero no en winter"
      ],
      "execution_count": null,
      "outputs": []
    },
    {
      "cell_type": "code",
      "metadata": {
        "id": "l8vhRGSC58M7",
        "colab_type": "code",
        "colab": {}
      },
      "source": [
        "df = only_gold"
      ],
      "execution_count": 68,
      "outputs": []
    },
    {
      "cell_type": "code",
      "metadata": {
        "id": "V6iqfFJ8wpe_",
        "colab_type": "code",
        "colab": {}
      },
      "source": [
        "#Para agregar columnas podemos indexar de la siguiente manera:\n",
        "df[\"country\"] = df.index\n",
        "df = df.set_index('Gold')\n",
        "df.head()"
      ],
      "execution_count": null,
      "outputs": []
    },
    {
      "cell_type": "code",
      "metadata": {
        "id": "mP0K02kd5ypI",
        "colab_type": "code",
        "colab": {}
      },
      "source": [
        "rd = pd.read_csv(\"census.csv\")\n",
        "rd.head()"
      ],
      "execution_count": null,
      "outputs": []
    },
    {
      "cell_type": "code",
      "metadata": {
        "id": "gq8nRZ4L8tzH",
        "colab_type": "code",
        "colab": {
          "base_uri": "https://localhost:8080/",
          "height": 34
        },
        "outputId": "b2010645-d63a-4915-c503-a4eca7f19bb9"
      },
      "source": [
        "rd[\"SUMLEV\"].unique()"
      ],
      "execution_count": 72,
      "outputs": [
        {
          "output_type": "execute_result",
          "data": {
            "text/plain": [
              "array([40, 50])"
            ]
          },
          "metadata": {
            "tags": []
          },
          "execution_count": 72
        }
      ]
    },
    {
      "cell_type": "code",
      "metadata": {
        "id": "JSCZx5dr9Ccr",
        "colab_type": "code",
        "colab": {}
      },
      "source": [
        "rd = rd[rd[\"SUMLEV\"]==50]\n",
        "rd.head()"
      ],
      "execution_count": null,
      "outputs": []
    },
    {
      "cell_type": "code",
      "metadata": {
        "id": "6uijQkOz9NYC",
        "colab_type": "code",
        "colab": {}
      },
      "source": [
        "rd = rd.set_index([\"STNAME\", \"CTYNAME\"])\n",
        "rd.head()"
      ],
      "execution_count": null,
      "outputs": []
    },
    {
      "cell_type": "code",
      "metadata": {
        "id": "bYXoD9np-VSx",
        "colab_type": "code",
        "colab": {}
      },
      "source": [
        "rd.loc[\"Michigan\",\"Washtenaw County\"]"
      ],
      "execution_count": null,
      "outputs": []
    },
    {
      "cell_type": "code",
      "metadata": {
        "id": "491b6FEG-2ve",
        "colab_type": "code",
        "colab": {}
      },
      "source": [
        "rd[\"RDEATH2011\"]"
      ],
      "execution_count": null,
      "outputs": []
    },
    {
      "cell_type": "code",
      "metadata": {
        "id": "dDM_PrnX_jrt",
        "colab_type": "code",
        "colab": {}
      },
      "source": [
        "rd.loc[ [(\"Michigan\", \"Washtenaw County\"),(\"Michigan\", \"Wayne County\")] ]"
      ],
      "execution_count": null,
      "outputs": []
    }
  ]
}
